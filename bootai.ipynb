{
  "nbformat": 4,
  "nbformat_minor": 0,
  "metadata": {
    "colab": {
      "provenance": [],
      "authorship_tag": "ABX9TyMTR2gzww2qgz5JF/uQ4VNu",
      "include_colab_link": true
    },
    "kernelspec": {
      "name": "python3",
      "display_name": "Python 3"
    },
    "language_info": {
      "name": "python"
    }
  },
  "cells": [
    {
      "cell_type": "markdown",
      "metadata": {
        "id": "view-in-github",
        "colab_type": "text"
      },
      "source": [
        "<a href=\"https://colab.research.google.com/github/ahfeeeh/collab_test/blob/main/bootai.ipynb\" target=\"_parent\"><img src=\"https://colab.research.google.com/assets/colab-badge.svg\" alt=\"Open In Colab\"/></a>"
      ]
    },
    {
      "cell_type": "code",
      "execution_count": null,
      "metadata": {
        "id": "bwuyx69lqaM-"
      },
      "outputs": [],
      "source": []
    },
    {
      "cell_type": "markdown",
      "source": [
        "Install the Python SDK\n"
      ],
      "metadata": {
        "id": "8kt8X5bHqdON"
      }
    },
    {
      "cell_type": "code",
      "source": [
        "!pip install -q -U google-generativeai"
      ],
      "metadata": {
        "id": "rHi9EF72qeoL"
      },
      "execution_count": 1,
      "outputs": []
    },
    {
      "cell_type": "code",
      "source": [
        "Import packages"
      ],
      "metadata": {
        "id": "B-Keptzsqm72"
      },
      "execution_count": null,
      "outputs": []
    },
    {
      "cell_type": "markdown",
      "source": [],
      "metadata": {
        "id": "unhnrIPDqt-s"
      }
    },
    {
      "cell_type": "code",
      "source": [
        "import pathlib\n",
        "import textwrap\n",
        "\n",
        "import google.generativeai as genai\n",
        "\n",
        "from IPython.display import display\n",
        "from IPython.display import Markdown\n",
        "\n",
        "\n",
        "def to_markdown(text):\n",
        "  text = text.replace('•', '  *')\n",
        "  return Markdown(textwrap.indent(text, '> ', predicate=lambda _: True))"
      ],
      "metadata": {
        "id": "Env8_l1Yqz6O"
      },
      "execution_count": 3,
      "outputs": []
    },
    {
      "cell_type": "code",
      "source": [
        "# Used to securely store your API key\n",
        "from google.colab import userdata"
      ],
      "metadata": {
        "id": "KUfjoEJpq-I1"
      },
      "execution_count": 5,
      "outputs": []
    },
    {
      "cell_type": "code",
      "source": [
        "# Or use `os.getenv('GOOGLE_API_KEY')` to fetch an environment variable.\n",
        "GOOGLE_API_KEY=userdata.get('GOOGLE_API_KEY')\n",
        "\n",
        "genai.configure(api_key=GOOGLE_API_KEY)"
      ],
      "metadata": {
        "id": "W2Kwog0SrFbS"
      },
      "execution_count": 7,
      "outputs": []
    },
    {
      "cell_type": "code",
      "source": [
        "for m in genai.list_models():\n",
        "  if 'generateContent' in m.supported_generation_methods:\n",
        "    print(m.name)"
      ],
      "metadata": {
        "colab": {
          "base_uri": "https://localhost:8080/",
          "height": 139
        },
        "id": "5jvaU9ckrm6m",
        "outputId": "1dde5bae-bea9-4963-c3e6-55b9d6d51e61"
      },
      "execution_count": 8,
      "outputs": [
        {
          "output_type": "stream",
          "name": "stdout",
          "text": [
            "models/gemini-1.0-pro\n",
            "models/gemini-1.0-pro-001\n",
            "models/gemini-1.0-pro-latest\n",
            "models/gemini-1.0-pro-vision-latest\n",
            "models/gemini-1.5-pro-latest\n",
            "models/gemini-pro\n",
            "models/gemini-pro-vision\n"
          ]
        }
      ]
    },
    {
      "cell_type": "code",
      "source": [
        "model = genai.GenerativeModel('gemini-pro')"
      ],
      "metadata": {
        "id": "CndQComFrnxA"
      },
      "execution_count": 15,
      "outputs": []
    },
    {
      "cell_type": "code",
      "source": [
        "%%time\n",
        "response = model.generate_content(\"What is the meaning of life?\")\n",
        "\n",
        "to_markdown(response.text)"
      ],
      "metadata": {
        "colab": {
          "base_uri": "https://localhost:8080/",
          "height": 533
        },
        "id": "j56FX6lkrtVq",
        "outputId": "714be984-c4b6-4afc-f28a-564a8af47449"
      },
      "execution_count": 21,
      "outputs": [
        {
          "output_type": "stream",
          "name": "stdout",
          "text": [
            "CPU times: user 123 ms, sys: 13.5 ms, total: 136 ms\n",
            "Wall time: 8.6 s\n"
          ]
        },
        {
          "output_type": "execute_result",
          "data": {
            "text/plain": [
              "<IPython.core.display.Markdown object>"
            ],
            "text/markdown": "> **Existential Philosophy Perspectives:**\n> \n> * **Absurdity (Albert Camus):** Life is inherently meaningless, and we must embrace our mortality and the chaos of existence.\n> * **Existentialism (Jean-Paul Sartre):** Life is as meaningful as we make it through our choices and actions. We are responsible for creating our own purpose.\n> * **Nihilism (Friedrich Nietzsche):** Life has no objective meaning or value, and any meaning we ascribe is ultimately self-constructed.\n> \n> **Religious and Spiritual Perspectives:**\n> \n> * **Theism (Christianity, Islam, etc.):** Life is a gift from God, with the purpose of fulfilling His will and achieving salvation in the afterlife.\n> * **Buddhism:** Life is a cycle of suffering and impermanence, and the ultimate goal is to achieve enlightenment and break free from this cycle.\n> * **Hinduism:** Life is a journey through multiple reincarnations, with the goal of spiritual growth and eventual liberation (moksha).\n> \n> **Humanistic Perspectives:**\n> \n> * **Humanism:** Life has no inherent meaning, but we can find purpose and fulfillment through our relationships, experiences, and contributions to society.\n> * **Utilitarianism (Jeremy Bentham):** Life's primary goal is to maximize happiness and minimize suffering for all individuals.\n> * **Existential Humanism (Erich Fromm):** Life is a process of self-actualization and the development of our unique potential.\n> \n> **Other Perspectives:**\n> \n> * **Subjectivism:** The meaning of life is entirely personal and subjective, differing for each individual.\n> * **Objectivism:** There is an objective meaning of life that is discoverable through reason and observation.\n> * **Evolutionary Psychology:** The meaning of life is to perpetuate our genetic material by passing on our genes to future generations.\n> * **Artificial Intelligence:** The meaning of life is to explore the potential of artificial intelligence and its impact on humanity.\n> \n> **Conclusion:**\n> \n> The meaning of life is a multifaceted and elusive concept with no single definitive answer. It depends on our individual beliefs, experiences, and perspectives. Ultimately, the search for meaning is a lifelong journey that can lead to personal growth, fulfillment, and a deeper understanding of our existence."
          },
          "metadata": {},
          "execution_count": 21
        }
      ]
    }
  ]
}